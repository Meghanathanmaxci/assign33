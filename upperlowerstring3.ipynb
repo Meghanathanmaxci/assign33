{
 "cells": [
  {
   "cell_type": "code",
   "execution_count": 2,
   "id": "332dcc55",
   "metadata": {},
   "outputs": [
    {
     "name": "stdout",
     "output_type": "stream",
     "text": [
      "enter string : The quick Brow Fox\n",
      "No of uppercase character..  3\n",
      "no of lowercase character..  12\n"
     ]
    }
   ],
   "source": [
    "sample = input('enter string : ')\n",
    "uppercase = 0\n",
    "lowercase = 0\n",
    "for ch in sample:\n",
    "    if str.isupper(ch):\n",
    "        uppercase+=1\n",
    "    elif str.islower(ch):\n",
    "        lowercase+=1\n",
    "print('No of uppercase character.. ',uppercase)\n",
    "print('no of lowercase character.. ',lowercase)"
   ]
  },
  {
   "cell_type": "code",
   "execution_count": null,
   "id": "5bd67ea6",
   "metadata": {},
   "outputs": [],
   "source": []
  }
 ],
 "metadata": {
  "kernelspec": {
   "display_name": "Python 3 (ipykernel)",
   "language": "python",
   "name": "python3"
  },
  "language_info": {
   "codemirror_mode": {
    "name": "ipython",
    "version": 3
   },
   "file_extension": ".py",
   "mimetype": "text/x-python",
   "name": "python",
   "nbconvert_exporter": "python",
   "pygments_lexer": "ipython3",
   "version": "3.9.7"
  }
 },
 "nbformat": 4,
 "nbformat_minor": 5
}
